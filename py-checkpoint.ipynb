{
 "cells": [
  {
   "cell_type": "code",
   "execution_count": 3,
   "id": "621e3941",
   "metadata": {},
   "outputs": [
    {
     "ename": "NameError",
     "evalue": "name 'srcImage' is not defined",
     "output_type": "error",
     "traceback": [
      "\u001b[1;31m---------------------------------------------------------------------------\u001b[0m",
      "\u001b[1;31mNameError\u001b[0m                                 Traceback (most recent call last)",
      "\u001b[1;32m<ipython-input-3-da93a83adc7b>\u001b[0m in \u001b[0;36m<module>\u001b[1;34m\u001b[0m\n\u001b[0;32m      9\u001b[0m \u001b[1;33m\u001b[0m\u001b[0m\n\u001b[0;32m     10\u001b[0m \u001b[0mw\u001b[0m\u001b[1;33m,\u001b[0m\u001b[0mh\u001b[0m\u001b[1;33m=\u001b[0m\u001b[0mint\u001b[0m\u001b[1;33m(\u001b[0m\u001b[0msrcIm\u001b[0m\u001b[1;33m.\u001b[0m\u001b[0mshape\u001b[0m\u001b[1;33m[\u001b[0m\u001b[1;36m1\u001b[0m\u001b[1;33m]\u001b[0m\u001b[1;33m/\u001b[0m\u001b[1;36m2\u001b[0m\u001b[1;33m)\u001b[0m\u001b[1;33m,\u001b[0m\u001b[0mint\u001b[0m\u001b[1;33m(\u001b[0m\u001b[0msrcIm\u001b[0m\u001b[1;33m.\u001b[0m\u001b[0mshape\u001b[0m\u001b[1;33m[\u001b[0m\u001b[1;36m0\u001b[0m\u001b[1;33m]\u001b[0m\u001b[1;33m/\u001b[0m\u001b[1;36m2\u001b[0m\u001b[1;33m)\u001b[0m\u001b[1;33m\u001b[0m\u001b[1;33m\u001b[0m\u001b[0m\n\u001b[1;32m---> 11\u001b[1;33m \u001b[0msrcImage\u001b[0m \u001b[1;33m=\u001b[0m \u001b[0mcv2\u001b[0m\u001b[1;33m.\u001b[0m\u001b[0mresize\u001b[0m\u001b[1;33m(\u001b[0m\u001b[0msrcImage\u001b[0m\u001b[1;33m,\u001b[0m\u001b[1;33m(\u001b[0m\u001b[0mw\u001b[0m\u001b[1;33m,\u001b[0m\u001b[0mh\u001b[0m\u001b[1;33m)\u001b[0m\u001b[1;33m,\u001b[0m\u001b[0minterpolation\u001b[0m\u001b[1;33m=\u001b[0m\u001b[0mcv2\u001b[0m\u001b[1;33m.\u001b[0m\u001b[0mINTER_AREA\u001b[0m\u001b[1;33m)\u001b[0m\u001b[1;33m\u001b[0m\u001b[1;33m\u001b[0m\u001b[0m\n\u001b[0m\u001b[0;32m     12\u001b[0m \u001b[0mmidImage\u001b[0m \u001b[1;33m=\u001b[0m \u001b[0mcv2\u001b[0m\u001b[1;33m.\u001b[0m\u001b[0mcvtColor\u001b[0m\u001b[1;33m(\u001b[0m\u001b[0msrcImage\u001b[0m\u001b[1;33m,\u001b[0m \u001b[0mcv2\u001b[0m\u001b[1;33m.\u001b[0m\u001b[0mCOLOR_BGR2GRAY\u001b[0m\u001b[1;33m)\u001b[0m\u001b[1;33m\u001b[0m\u001b[1;33m\u001b[0m\u001b[0m\n\u001b[0;32m     13\u001b[0m \u001b[1;33m\u001b[0m\u001b[0m\n",
      "\u001b[1;31mNameError\u001b[0m: name 'srcImage' is not defined"
     ]
    }
   ],
   "source": [
    "#HoughLines\n",
    "import cv2\n",
    "import numpy as np\n",
    "\n",
    "#input_img_file = \"3249940837.jpg\"\n",
    "input_img_file = \"aa3.jpg\"\n",
    "srcIm = cv2.imread(input_img_file)\n",
    "#srcImage = srcIm\n",
    "\n",
    "w,h=int(srcIm.shape[1]/2),int(srcIm.shape[0]/2)\n",
    "srcImage = cv2.resize(srcIm,(w,h),interpolation=cv2.INTER_AREA)\n",
    "midImage = cv2.cvtColor(srcImage, cv2.COLOR_BGR2GRAY)\n",
    "\n",
    "cv2.imshow(\"Imagelines\",midImage)\n",
    "cv2.waitKey(0)\n",
    "\n",
    "blurred = cv2.GaussianBlur(midImage , (5, 5), 0)\n",
    "cv2.imshow(\"Imagelines\",blurred)\n",
    "cv2.waitKey(0)\n",
    "\n",
    "dstImage = cv2.Canny(blurred, 30, 150)\n",
    "cv2.imshow(\"Imagelines\",dstImage)\n",
    "cv2.waitKey(0)\n",
    "lines = cv2.HoughLines(dstImage, 1, np.pi/180, 90)\n",
    "\n",
    "# print(lines)\n",
    "lineimage = srcImage.copy()\n",
    "# 依次畫出每條線段\n",
    "for i in range(len(lines)):\n",
    "    for rho, theta in lines[i]:\n",
    "        # print(\"theta:\", theta, \" rho:\", rho)\n",
    "        a = np.cos(theta)\n",
    "        b = np.sin(theta)\n",
    "        x0 = a * rho\n",
    "        y0 = b * rho\n",
    "        x1 = int(round(x0 + 1000 * (-b)))\n",
    "        y1 = int(round(y0 + 1000 * a))\n",
    "        x2 = int(round(x0 - 1000 * (-b)))\n",
    "        y2 = int(round(y0 - 1000 * a))\n",
    "        cv2.line(lineimage, (x1, y1), (x2, y2), (0, 0, 255), 1, cv2.LINE_AA)\n",
    "        cv2.imshow(\"Imagelines\", lineimage)\n",
    "\n",
    "# cv2.imshow(\"Image\", dstImage)\n",
    "cv2.waitKey(0)\n",
    "cv2.destroyAllWindows()"
   ]
  },
  {
   "cell_type": "code",
   "execution_count": 3,
   "id": "63207e24",
   "metadata": {},
   "outputs": [],
   "source": [
    "#HoughLinesP\n",
    "import cv2\n",
    "import numpy as np\n",
    "\n",
    "input_img_file = \"3249940837.jpg\"\n",
    "srcImage = cv2.imread(input_img_file)\n",
    "# dst = cv2.GaussianBlur(srcImage, (15,15), 0) #高斯模糊\n",
    "dst=srcImage\n",
    "\n",
    "# dst = 255-dst\n",
    "# fla = dst.flatten()\n",
    "# print(fla.shape)\n",
    "# # counts = np.bincount(fla)\n",
    "# # am = np.argmax(counts)\n",
    "# am = np.median(fla)\n",
    "# print(am)\n",
    "# cv2.imshow(\"Image\", dst )\n",
    "# cv2.waitKey(0)\n",
    "\n",
    "# print(dst)\n",
    "# ret, th = cv2.threshold(dst, 255/3, 255, cv2.THRESH_BINARY)\n",
    "\n",
    "# cv2.imshow(\"Image\", th)\n",
    "# cv2.waitKey(0)\n",
    "\n",
    "# midImage = cv2.cvtColor(srcImage, cv2.COLOR_BGR2GRAY)\n",
    "dstImage = cv2.Canny(dst,0 , 255)\n",
    "cv2.imshow(\"Image\", dstImage)\n",
    "cv2.waitKey(0)\n",
    "\n",
    "lineimage = srcImage.copy()\n",
    "lines = cv2.HoughLinesP(dstImage, 1, np.pi/180, 100,minLineLength=10, maxLineGap=50)\n",
    "# print(lines)\n",
    "# 依次畫出每條線段\n",
    "for j in lines:\n",
    "    x1, y1, x2, y2 = j[0]\n",
    "    cv2.line(lineimage, (x1, y1), (x2, y2), (0, 0, 255), 1, cv2.LINE_AA)\n",
    "    cv2.imshow(\"Imagelines\", lineimage)\n",
    "\n",
    "# cv2.imshow(\"Image\", dstImage)\n",
    "cv2.waitKey(0)\n",
    "cv2.destroyAllWindows()"
   ]
  },
  {
   "cell_type": "code",
   "execution_count": 26,
   "id": "cbaf654c",
   "metadata": {},
   "outputs": [],
   "source": [
    "#HoughLinesP\n",
    "import cv2\n",
    "import numpy as np\n",
    "\n",
    "input_img_file = \"3249940837.jpg\"\n",
    "srcImage = cv2.imread(input_img_file)\n",
    "cv2.imshow(\"Imagelines\",srcImage)\n",
    "cv2.waitKey(0)\n",
    "\n",
    "midImage = cv2.cvtColor(srcImage, cv2.COLOR_BGR2GRAY)\n",
    "cv2.imshow(\"Imagelines\",midImage)\n",
    "cv2.waitKey(0)\n",
    "\n",
    "\n",
    "dst = cv2.GaussianBlur(srcImage, (15,15), 0) #高斯模糊\n",
    "cv2.imshow(\"Imagelines\",dst)\n",
    "cv2.waitKey(0)\n",
    "# dst= srcImage\n",
    "midImage = cv2.cvtColor(dst, cv2.COLOR_BGR2GRAY)\n",
    "dstImage = cv2.Canny(midImage, 50, 200, 3)\n",
    "\n",
    "cv2.imshow(\"Imagelines\", dstImage)\n",
    "\n",
    "\n",
    "cv2.waitKey(0)\n",
    "cv2.destroyAllWindows()"
   ]
  },
  {
   "cell_type": "code",
   "execution_count": null,
   "id": "2e38acc1",
   "metadata": {},
   "outputs": [],
   "source": [
    "counts = np.bincount(nums)\n",
    "np.argmax(counts)"
   ]
  },
  {
   "cell_type": "code",
   "execution_count": 7,
   "id": "38b2f333",
   "metadata": {},
   "outputs": [
    {
     "name": "stdout",
     "output_type": "stream",
     "text": [
      "(1271, 1340, 3)\n"
     ]
    }
   ],
   "source": [
    "import cv2\n",
    "import numpy as np\n",
    "input_img_file = \"3249940837.jpg\"\n",
    "srcIm = cv2.imread(input_img_file)\n",
    "#midImage = cv2.cvtColor(srcIm, cv2.COLOR_BGR2GRAY)\n",
    "midImage = srcIm\n",
    "print(midImage.shape)\n",
    "cv2.line(midImage, (36,36), (1000,1000), (0, 0, 255), 1, cv2.LINE_AA)\n",
    "cv2.imshow(\"Imagelines\",midImage[:,:,:])\n",
    "cv2.waitKey(0)\n",
    "cv2.destroyAllWindows()"
   ]
  },
  {
   "cell_type": "code",
   "execution_count": null,
   "id": "748e4f97",
   "metadata": {},
   "outputs": [],
   "source": []
  }
 ],
 "metadata": {
  "kernelspec": {
   "display_name": "Python (py36)",
   "language": "python",
   "name": "myenv"
  },
  "language_info": {
   "codemirror_mode": {
    "name": "ipython",
    "version": 3
   },
   "file_extension": ".py",
   "mimetype": "text/x-python",
   "name": "python",
   "nbconvert_exporter": "python",
   "pygments_lexer": "ipython3",
   "version": "3.6.13"
  }
 },
 "nbformat": 4,
 "nbformat_minor": 5
}
